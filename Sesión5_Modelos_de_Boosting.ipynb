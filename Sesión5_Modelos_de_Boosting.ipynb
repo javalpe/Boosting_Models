{
  "nbformat": 4,
  "nbformat_minor": 0,
  "metadata": {
    "accelerator": "GPU",
    "colab": {
      "name": "Sesión5_Modelos de Boosting",
      "provenance": [],
      "collapsed_sections": []
    },
    "kernelspec": {
      "display_name": "Python 3",
      "language": "python",
      "name": "python3"
    },
    "language_info": {
      "codemirror_mode": {
        "name": "ipython",
        "version": 3
      },
      "file_extension": ".py",
      "mimetype": "text/x-python",
      "name": "python",
      "nbconvert_exporter": "python",
      "pygments_lexer": "ipython3",
      "version": "3.7.1"
    }
  },
  "cells": [
    {
      "cell_type": "markdown",
      "metadata": {
        "colab_type": "text",
        "id": "ULYFoFS4zu-S"
      },
      "source": [
        "# **Presentación del Caso Forest Cover Type**"
      ]
    },
    {
      "cell_type": "markdown",
      "metadata": {
        "colab_type": "text",
        "id": "LmIh93thx69V"
      },
      "source": [
        "En la clase de hoy trabajaremos con un dataset **privado** utilizado para la **predicción del tipo de árbool** según las características ingresadas en el dataset. Los datos son de caracter **geológico** y han sido extraídos en la Roosevelt National Forest ubicado en Colorado, Estados Unidos.\n",
        "\n",
        "Se ha recopilado un total de 54 variables predictoras de tipo categórica y numérico, sin embargo la variable objetivo (target) es la columna **Cover Type** cuyo tipo de dato es **numérico**."
      ]
    },
    {
      "cell_type": "markdown",
      "metadata": {
        "id": "5VNMRG0HqQZn",
        "colab_type": "text"
      },
      "source": [
        "# **Comprensión de los datos**"
      ]
    },
    {
      "cell_type": "code",
      "metadata": {
        "colab_type": "code",
        "id": "98SH2tPcsZpQ",
        "colab": {}
      },
      "source": [
        "#Crear una variable url para asignar la ruta url del archivo csv de entrenamiento guardado en mi github\n",
        "url = 'https://raw.githubusercontent.com/javalillo13689/tesst/master/train.csv'\n",
        "\n",
        "#Importaremos el url de nuestra data para hacer el test.\n",
        "url_2 ='https://raw.githubusercontent.com/javalillo13689/tesst/master/test.csv'\n",
        "\n",
        "#Importar la librería pandas para trabajar con dataframes y guardar esta libreria como una variable pd\n",
        "import pandas as pd\n",
        "import numpy as np\n",
        "import seaborn as sns\n",
        "\n",
        "#Crear una variable train para guardar la data de entrenamiento a partir del archivo csv obteniendo así un dataframe\n",
        "#El índice del dataframe serán los valores que aparecen en la columna Id del archivo csv\n",
        "train = pd.read_csv(url, index_col='Id')\n",
        "test = pd.read_csv(url_2, index_col='Id')\n",
        "\n",
        "import warnings\n",
        "warnings.filterwarnings('ignore')\n",
        "\n",
        "import matplotlib.pyplot as plt"
      ],
      "execution_count": 0,
      "outputs": []
    },
    {
      "cell_type": "code",
      "metadata": {
        "id": "0OsIbkanox5h",
        "colab_type": "code",
        "colab": {}
      },
      "source": [
        "train.head(2)"
      ],
      "execution_count": 0,
      "outputs": []
    },
    {
      "cell_type": "markdown",
      "metadata": {
        "id": "ERuKMmXnXhJo",
        "colab_type": "text"
      },
      "source": [
        "Verificamos el total de filas y las columnas"
      ]
    },
    {
      "cell_type": "code",
      "metadata": {
        "id": "E9-z1FvPWwPA",
        "colab_type": "code",
        "colab": {}
      },
      "source": [
        "train.shape, test.shape"
      ],
      "execution_count": 0,
      "outputs": []
    },
    {
      "cell_type": "markdown",
      "metadata": {
        "id": "vhrswORwXtX8",
        "colab_type": "text"
      },
      "source": [
        "Comprobamos efectivamente que contamos con **54 variables predictoras**. Recuerda que **train** cuenta con **una columna adicional: CoverType**"
      ]
    },
    {
      "cell_type": "markdown",
      "metadata": {
        "id": "tbHZpbs_qQbT",
        "colab_type": "text"
      },
      "source": [
        "# **Preprocesamiento de los datos**"
      ]
    },
    {
      "cell_type": "markdown",
      "metadata": {
        "id": "jptYp15QeE4G",
        "colab_type": "text"
      },
      "source": [
        "##Verificación de nulos y/o outliers"
      ]
    },
    {
      "cell_type": "markdown",
      "metadata": {
        "id": "nx92qBLUpWqS",
        "colab_type": "text"
      },
      "source": [
        "Comprobamos si queda algún nulo en nuestra data"
      ]
    },
    {
      "cell_type": "code",
      "metadata": {
        "id": "L1YeeaiLpKeL",
        "colab_type": "code",
        "colab": {}
      },
      "source": [
        "def valores_perdidos (tabla): \n",
        "        total_nulos = tabla.isnull().sum()\n",
        "        porcentaje_nulos = 100 * tabla.isnull().sum()/len(tabla)\n",
        "        tabla_nulos = pd.concat([total_nulos, porcentaje_nulos], axis=1)\n",
        "        tabla_nulos_nombres = tabla_nulos.rename(columns = {0 : 'total_nulos', 1 : '% nulos'})\n",
        "        return tabla_nulos_nombres [tabla_nulos_nombres['total_nulos'] != 0].sort_values('total_nulos', ascending=False)"
      ],
      "execution_count": 0,
      "outputs": []
    },
    {
      "cell_type": "markdown",
      "metadata": {
        "id": "TSrb9TABefdy",
        "colab_type": "text"
      },
      "source": [
        "##**Preprocesamiento de las variables o Feature Engineering**"
      ]
    },
    {
      "cell_type": "markdown",
      "metadata": {
        "_cell_guid": "a4879ef7-ab0d-4955-bc48-7ebcfa04b3bd",
        "_execution_state": "idle",
        "_uuid": "9976d6288bc183d443fbccc2bde439d5bc3a87b1",
        "colab_type": "text",
        "id": "FLB08LSNGdec"
      },
      "source": [
        "**Añadimos una variable importante**"
      ]
    },
    {
      "cell_type": "markdown",
      "metadata": {
        "_cell_guid": "b9486529-a3d2-443d-8a90-6bfbc406583b",
        "_execution_state": "idle",
        "_uuid": "ab22a33cf69e8092b3c4ae0a80b1f5f31b67edbc",
        "colab_type": "text",
        "id": "3aRwk-bWGded"
      },
      "source": [
        "Debido a que la distancia **diagonal** es también importante a partir de las distancias horizontal y vertical a la fuente más cercana de agua, lo calculamos a partir de una **función** que definimos:"
      ]
    },
    {
      "cell_type": "code",
      "metadata": {
        "colab_type": "code",
        "id": "ZLixrzlKbvqt",
        "colab": {}
      },
      "source": [
        "#Crear una variable list_1 para asignar una lista con los nombres de las columnas descritas\n",
        "list_1=['Horizontal_Distance_To_Hydrology','Vertical_Distance_To_Hydrology']"
      ],
      "execution_count": 0,
      "outputs": []
    },
    {
      "cell_type": "code",
      "metadata": {
        "colab_type": "code",
        "id": "UriJEgOPMN15",
        "colab": {}
      },
      "source": [
        "#Importar la libreria math para trabajar con funciones matemáticas\n",
        "import math\n",
        "\n",
        "#Definimos una funcion que denominamos pitagoras con dos parámetros que sacará la raíz cuadrada de la suma de los cuadrados de ambos parámetros\n",
        "def pitagoras (a, b): \n",
        "    return math.sqrt(a**2 + b**2)\n",
        "\n",
        "#Agregamos la columna pitagoras al dataframe train_pitagoras_distance1 donde guardar el resultado de ejecutar la función pitagoras fila por fila\n",
        "train['pitagoras'] = train.apply(lambda row : pitagoras(row['Horizontal_Distance_To_Hydrology'],row['Vertical_Distance_To_Hydrology']), axis = 1)\n",
        "#Tambien transformamos el test\n",
        "test['pitagoras'] = test.apply(lambda row : pitagoras(row['Horizontal_Distance_To_Hydrology'],row['Vertical_Distance_To_Hydrology']),axis=1)"
      ],
      "execution_count": 0,
      "outputs": []
    },
    {
      "cell_type": "markdown",
      "metadata": {
        "_cell_guid": "a4879ef7-ab0d-4955-bc48-7ebcfa04b3bd",
        "_execution_state": "idle",
        "_uuid": "9976d6288bc183d443fbccc2bde439d5bc3a87b1",
        "colab_type": "text",
        "id": "isb2GA6EJ3js"
      },
      "source": [
        "**Añadimos otra variable importante**"
      ]
    },
    {
      "cell_type": "markdown",
      "metadata": {
        "_cell_guid": "b9486529-a3d2-443d-8a90-6bfbc406583b",
        "_execution_state": "idle",
        "_uuid": "ab22a33cf69e8092b3c4ae0a80b1f5f31b67edbc",
        "colab_type": "text",
        "id": "4TumeXRnJ3j4"
      },
      "source": [
        "Debido a que la sombra **promedio** es también importante a partir de las sombras en distintas horas del día, lo calculamos con el método **mean**"
      ]
    },
    {
      "cell_type": "code",
      "metadata": {
        "colab_type": "code",
        "id": "dpyNwwfJMPtl",
        "colab": {}
      },
      "source": [
        "list_2=['Hillshade_9am','Hillshade_Noon','Hillshade_3pm']\n",
        "#Voy a sacar la media de las sombras de estas tres variables\n",
        "train['hillmean'] = train[list_2].mean(axis=1) \n",
        "test['hillmean'] = test[list_2].mean(axis=1)"
      ],
      "execution_count": 0,
      "outputs": []
    },
    {
      "cell_type": "code",
      "metadata": {
        "id": "CEpVdEgvox5v",
        "colab_type": "code",
        "colab": {}
      },
      "source": [
        "train.head(3)"
      ],
      "execution_count": 0,
      "outputs": []
    },
    {
      "cell_type": "markdown",
      "metadata": {
        "_cell_guid": "461af83d-a928-4645-8512-5e4dbcaf7be0",
        "_execution_state": "idle",
        "_uuid": "10aab4cee97832560e2627a490e01e80c0ffb814",
        "colab_type": "text",
        "id": "Kl1jncH5Gdew"
      },
      "source": [
        "# **Modelamiento**"
      ]
    },
    {
      "cell_type": "markdown",
      "metadata": {
        "id": "D3QDxsKBhoiM",
        "colab_type": "text"
      },
      "source": [
        "En esta sesión utilizamos los siguientes **modelos de boosting**:\n",
        "\n",
        "Los modelos que ejecutaremos serán:\n",
        "\n",
        "1.   AdaBoost\n",
        "2.   XGBoost\n",
        "2.   LightGBM"
      ]
    },
    {
      "cell_type": "code",
      "metadata": {
        "colab_type": "code",
        "id": "j-q2YFZlqwBw",
        "colab": {}
      },
      "source": [
        "#Crear una variable X para guardar el dataframe train\n",
        "X = train"
      ],
      "execution_count": 0,
      "outputs": []
    },
    {
      "cell_type": "code",
      "metadata": {
        "colab_type": "code",
        "id": "ZoSnm57dq7Cs",
        "colab": {}
      },
      "source": [
        "#Crear una variable y para guardar solo la columna Cover_Type de la variable X porque esta variable es el objetivo de la predicción\n",
        "y = X['Cover_Type']\n",
        "\n",
        "#Eliminar la columna Cover_Type de la variable X para solo conservar las variables predictoras.\n",
        "#El parámetro inplace=True permite actualizar la variable X\n",
        "X.drop(['Cover_Type'], axis=1, inplace=True)"
      ],
      "execution_count": 0,
      "outputs": []
    },
    {
      "cell_type": "code",
      "metadata": {
        "colab_type": "code",
        "id": "szDre32pp1A1",
        "colab": {}
      },
      "source": [
        "#Importamos la función train_test_split para poder usar model_selection\n",
        "from sklearn.model_selection import train_test_split\n",
        "\n",
        "#Usando train_test_split obtenemos las muestras de entrenamiento (train) y test a partir de X tomando el 60% y 40% respectivamente\n",
        "X_train, X_test, y_train, y_test = train_test_split(X, y, train_size=0.8,random_state=1)"
      ],
      "execution_count": 0,
      "outputs": []
    },
    {
      "cell_type": "markdown",
      "metadata": {
        "id": "S6lXk_CvRE2G",
        "colab_type": "text"
      },
      "source": [
        "### Iniciamos con un modelo Random Forest para establecer una línea base"
      ]
    },
    {
      "cell_type": "code",
      "metadata": {
        "id": "Hr7L91ePK6AF",
        "colab_type": "code",
        "colab": {}
      },
      "source": [
        "#Para tunear los hiperparámetros necesitamos importar GridSearchCV\n",
        "from sklearn.model_selection import GridSearchCV\n",
        "\n",
        "#Importamos la librería sklearn y model_selection para utilizar cross_val_score\n",
        "from sklearn.model_selection import cross_val_score\n"
      ],
      "execution_count": 0,
      "outputs": []
    },
    {
      "cell_type": "code",
      "metadata": {
        "id": "Q5qzRfXPDXU2",
        "colab_type": "code",
        "colab": {}
      },
      "source": [
        "from sklearn.ensemble import RandomForestClassifier\n",
        "\n",
        "rf_clf = RandomForestClassifier(n_estimators=100)\n",
        "\n",
        "#Especificamos los parámetros en los que queremos buscar lo óptimo\n",
        "params_rf = {'max_depth' : [6,11,12,13], 'criterion' : ['gini','entropy'] }\n",
        "\n",
        "#Hacemos la búsqueda\n",
        "searcher_rf = GridSearchCV(rf_clf, params_rf)\n",
        "\n",
        "searcher_rf.fit(X_train,y_train)"
      ],
      "execution_count": 0,
      "outputs": []
    },
    {
      "cell_type": "code",
      "metadata": {
        "id": "bQfzuPqhQmk2",
        "colab_type": "code",
        "colab": {}
      },
      "source": [
        "searcher_rf.best_params_"
      ],
      "execution_count": 0,
      "outputs": []
    },
    {
      "cell_type": "code",
      "metadata": {
        "id": "MYA7MLY4RB4Q",
        "colab_type": "code",
        "colab": {}
      },
      "source": [
        "rf_clf_ = searcher_rf.best_estimator_\n",
        "cross_val_score(rf_clf_, X_train, y_train, cv=5)"
      ],
      "execution_count": 0,
      "outputs": []
    },
    {
      "cell_type": "code",
      "metadata": {
        "id": "K_fxAqSsgot1",
        "colab_type": "code",
        "colab": {}
      },
      "source": [
        "rf_clf_.score(X_test,y_test)"
      ],
      "execution_count": 0,
      "outputs": []
    },
    {
      "cell_type": "markdown",
      "metadata": {
        "id": "XnxRJ1BRR6YI",
        "colab_type": "text"
      },
      "source": [
        "### AdaBoost"
      ]
    },
    {
      "cell_type": "code",
      "metadata": {
        "id": "aLzJH9Q2DXzk",
        "colab_type": "code",
        "colab": {}
      },
      "source": [
        "from sklearn.ensemble import AdaBoostClassifier\n",
        "from sklearn.tree import DecisionTreeClassifier\n",
        "\n",
        "#En este caso no tunaeremos nuestro adaboost\n",
        "ab_clf = AdaBoostClassifier(learning_rate=1,\n",
        "                            random_state=337,\n",
        "                            base_estimator=DecisionTreeClassifier(max_depth=10))\n",
        "\n",
        "ab_clf.fit(X_train,y_train)\n",
        "\n",
        "cross_val_score(ab_clf, X_train, y_train, cv=5)"
      ],
      "execution_count": 0,
      "outputs": []
    },
    {
      "cell_type": "code",
      "metadata": {
        "id": "DKcFOmild37A",
        "colab_type": "code",
        "colab": {}
      },
      "source": [
        "ab_clf.score(X_test,y_test)"
      ],
      "execution_count": 0,
      "outputs": []
    },
    {
      "cell_type": "code",
      "metadata": {
        "id": "gQ5LwtITd3-d",
        "colab_type": "code",
        "colab": {}
      },
      "source": [
        "importances = ab_clf.feature_importances_\n",
        "cols = X_train.columns\n",
        "plt.figure(figsize=(8,12))\n",
        "indices = np.argsort(importances)\n",
        "plt.title('Feature importances con adaboost')\n",
        "plt.barh(range(len(indices)), importances[indices], align='center')\n",
        "plt.yticks(range(len(indices)),[cols[i] for i in indices])\n",
        "plt.xlabel('Relative Importance')\n",
        "plt.show()"
      ],
      "execution_count": 0,
      "outputs": []
    },
    {
      "cell_type": "markdown",
      "metadata": {
        "id": "b6Yy5HcwfIg_",
        "colab_type": "text"
      },
      "source": [
        "### XGBOOST "
      ]
    },
    {
      "cell_type": "code",
      "metadata": {
        "colab_type": "code",
        "id": "bbvC-5UfsCUT",
        "colab": {}
      },
      "source": [
        "#Importamos la librería xgboost para utilizar XGBClassifier utilizado en la predicción de clases (variables categóricas)\n",
        "#En este ejemplo la clase de la variable Category_Type\n",
        "from xgboost import XGBClassifier\n",
        "\n",
        "#Creamos la variable xgb_c para guardar XGBClassifier\n",
        "xgb_c = XGBClassifier(learning_rate = 0.1,\n",
        "                      n_estimators = 500, \n",
        "                      early_stopping_rounds = 10, \n",
        "                      max_depth = 10,\n",
        "                      eval_metric = 'logloss', \n",
        "                      eval_set =[(X_test,y_test)] )\n"
      ],
      "execution_count": 0,
      "outputs": []
    },
    {
      "cell_type": "code",
      "metadata": {
        "colab_type": "code",
        "id": "jC1NpzZIZyRz",
        "colab": {}
      },
      "source": [
        "#Utilizamos los parámetros del modelo xgb_c para utilizar las muestras de entrenamiento\n",
        "#El parámetro early_stopping_rounds indica el límite de iteraciones del modelo\n",
        "#El parámetro eval_set indica una referencia para comparar los resultados de cada iteración del modelo\n",
        "xgb_c.fit(X_train, y_train)"
      ],
      "execution_count": 0,
      "outputs": []
    },
    {
      "cell_type": "code",
      "metadata": {
        "colab_type": "code",
        "id": "PjUypXnUeOG7",
        "colab": {}
      },
      "source": [
        "#Obtenemos las predicciones utilizando el parámetro predict del modelo xgb_c a partir del dataframe train4\n",
        "#Creamos la variable predictions para guardar las predicciones\n",
        "predictions = xgb_c.predict(X_test)\n",
        "\n",
        "from sklearn.metrics import accuracy_score\n",
        "\n",
        "accuracy_score(predictions,y_test)"
      ],
      "execution_count": 0,
      "outputs": []
    },
    {
      "cell_type": "code",
      "metadata": {
        "colab_type": "code",
        "id": "dBSbkY04RFcB",
        "colab": {}
      },
      "source": [
        "#Importamos la librería sklearn y model_selection para utilizar cross_val_score\n",
        "from sklearn.model_selection import cross_val_score\n",
        "\n",
        "#Usando cross_val_score iteramos el modelo xgb_c a partir de las muestras de entrenamiento\n",
        "#El parámetro cv hace referencia a las particiones de las muestras de entrenamiento para las iteraciones\n",
        "cross_val_score(xgb_c, X_train, y_train, cv=5)"
      ],
      "execution_count": 0,
      "outputs": []
    },
    {
      "cell_type": "markdown",
      "metadata": {
        "id": "3ZZQI6cdox6L",
        "colab_type": "text"
      },
      "source": [
        "### LightGBM"
      ]
    },
    {
      "cell_type": "code",
      "metadata": {
        "id": "bv8gsWEQox6M",
        "colab_type": "code",
        "colab": {}
      },
      "source": [
        "import lightgbm as lgb\n",
        "from sklearn.model_selection import KFold\n",
        "\n",
        "d_train = lgb.Dataset(X_train, label=y_train)\n",
        "folds = KFold(5, random_state=1)\n",
        "\n",
        "\n",
        "params = {'task': 'train','boosting_type': 'gbdt','metric': { 'auc'}, \"max_depth\":2,\n",
        "              \"num_leaves\":3,'learning_rate': 0.075,'feature_fraction': 0.9,\n",
        "              'bagging_fraction': 0.9,'verbose': 1}\n",
        "\n",
        "\n",
        "lgb_clf = lgb.train(params, d_train, 100)\n",
        "\n",
        "results = lgb.cv(params, d_train, folds=folds.split(X_train), num_boost_round=1000, \n",
        "                 early_stopping_rounds=100)\n",
        "\n",
        "lgb_pred = lgb_clf.predict(X_test)"
      ],
      "execution_count": 0,
      "outputs": []
    },
    {
      "cell_type": "code",
      "metadata": {
        "id": "5yvSC4-cVEVI",
        "colab_type": "code",
        "colab": {}
      },
      "source": [
        "lgb_pred"
      ],
      "execution_count": 0,
      "outputs": []
    }
  ]
}